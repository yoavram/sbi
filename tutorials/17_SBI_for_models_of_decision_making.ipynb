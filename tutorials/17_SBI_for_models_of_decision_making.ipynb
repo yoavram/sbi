{
 "cells": [
  {
   "attachments": {},
   "cell_type": "markdown",
   "metadata": {},
   "source": [
    "# SBI with iid data\n",
    "\n",
    "For a general tutorial on using SBI with trial-based iid data, see `tutorial 14`. Here, we cover the use-case often occurring in models of decision-making: trial-based data with mixed data types. "
   ]
  },
  {
   "cell_type": "markdown",
   "metadata": {},
   "source": [
    "## Trial-based SBI with mixed data types\n",
    "\n",
    "In some cases, models with trial-based data additionally return data with mixed data types, e.g., continous and discrete data. For example, most computational models of decision-making have continuous reaction times and discrete choices as output. \n",
    "\n",
    "This can induce a problem when performing trial-based SBI that relies on learning a neural likelihood. The problem is that it is challenging for most density estimators to handle both, continous and discrete data at the same time. There has been developed a method for solving this problem, it's called __Mixed Neural Likelihood Estimation__ (MNLE). It works just like NLE, but with mixed data types. The trick is that it learns two separate density estimators, one for the discrete part of the data, and one for the continuous part, and combines the two to obtain the final neural likelihood. Crucially, the continuous density estimator is trained conditioned on the output of the discrete one, such that statistical dependencies between the discrete and continous data (e.g., between choices and reaction times) are modeled as well. The interested reader is referred to the original paper available [here](https://www.biorxiv.org/content/10.1101/2021.12.22.473472v2).\n",
    "\n",
    "MNLE was recently added to `sbi` (see [PR](https://github.com/mackelab/sbi/pull/638)) and follow the same API as `SNLE`."
   ]
  },
  {
   "cell_type": "markdown",
   "metadata": {},
   "source": [
    "## Toy problem for `MNLE`\n",
    "\n",
    "To illustrate `MNLE` we set up a toy simulator that outputs mixed data and for which we know the likelihood such we can obtain reference posterior samples via MCMC.\n",
    "\n",
    "__Simulator__: To simulate mixed data we do the following\n",
    "\n",
    "- Sample reaction time from `inverse Gamma`\n",
    "- Sample choices from `Binomial`\n",
    "- Return reaction time $rt \\in (0, \\infty$ and choice index $c \\in \\{0, 1\\}$\n",
    "\n",
    "$$\n",
    "c \\sim \\text{Binomial}(\\rho) \\\\\n",
    "rt \\sim \\text{InverseGamma}(\\alpha=2, \\beta) \\\\\n",
    "$$\n",
    "\n",
    "\n",
    "\n",
    "\n",
    "__Prior__: The priors of the two parameters $\\rho$ and $\\beta$ are independent. We define a `Beta` prior over the probabilty parameter of the `Binomial` used in the simulator and a `Gamma` prior over the shape-parameter of the `inverse Gamma` used in the simulator:\n",
    "\n",
    "$$\n",
    "p(\\beta, \\rho) = p(\\beta) \\; p(\\rho) ; \\\\\n",
    "p(\\beta) = \\text{Gamma}(1, 0.5) \\\\\n",
    "p(\\text{probs}) = \\text{Beta}(2, 2) \n",
    "$$\n",
    "\n",
    "Because the `InverseGamma` and the `Binomial` likelihoods are well-defined we can perform MCMC on this problem and obtain reference-posterior samples."
   ]
  },
  {
   "cell_type": "code",
   "execution_count": 1,
   "metadata": {},
   "outputs": [],
   "source": [
    "import matplotlib.pyplot as plt\n",
    "import torch\n",
    "\n",
    "from sbi.inference import MNLE\n",
    "from pyro.distributions import InverseGamma\n",
    "from torch.distributions import Beta, Binomial, Gamma\n",
    "from sbi.utils import MultipleIndependent\n",
    "\n",
    "from sbi.analysis import pairplot\n",
    "from sbi.inference import MCMCPosterior, VIPosterior, RejectionPosterior\n",
    "from sbi.utils.torchutils import atleast_2d\n",
    "\n",
    "from sbi.utils import mcmc_transform\n",
    "from sbi.inference.potentials.base_potential import BasePotential"
   ]
  },
  {
   "cell_type": "code",
   "execution_count": 2,
   "metadata": {},
   "outputs": [],
   "source": [
    "# Toy simulator for mixed data\n",
    "def mixed_simulator(theta):\n",
    "    beta, ps = theta[:, :1], theta[:, 1:]\n",
    "\n",
    "    choices = Binomial(probs=ps).sample()\n",
    "    rts = InverseGamma(concentration=2 * torch.ones_like(beta), rate=beta).sample()\n",
    "\n",
    "    return torch.cat((rts, choices), dim=1)\n",
    "\n",
    "\n",
    "# Potential function to perform MCMC to obtain the reference posterior samples.\n",
    "class PotentialFunctionProvider(BasePotential):\n",
    "    allow_iid_x = True  # type: ignore\n",
    "\n",
    "    def __init__(self, prior, x_o, concentration_scaling=1.0, device=\"cpu\"):\n",
    "        super().__init__(prior, x_o, device)\n",
    "        self.concentration_scaling = concentration_scaling\n",
    "\n",
    "    def __call__(self, theta, track_gradients: bool = True):\n",
    "\n",
    "        theta = atleast_2d(theta)\n",
    "\n",
    "        with torch.set_grad_enabled(track_gradients):\n",
    "            iid_ll = self.iid_likelihood(theta)\n",
    "\n",
    "        return iid_ll + self.prior.log_prob(theta)\n",
    "\n",
    "    def iid_likelihood(self, theta):\n",
    "\n",
    "        lp_choices = torch.stack(\n",
    "            [\n",
    "                Binomial(probs=th.reshape(1, -1)).log_prob(self.x_o[:, 1:])\n",
    "                for th in theta[:, 1:]\n",
    "            ],\n",
    "            dim=1,\n",
    "        )\n",
    "\n",
    "        lp_rts = torch.stack(\n",
    "            [\n",
    "                InverseGamma(\n",
    "                    concentration=self.concentration_scaling * torch.ones_like(beta_i), rate=beta_i\n",
    "                ).log_prob(self.x_o[:, :1])\n",
    "                for beta_i in theta[:, :1]\n",
    "            ],\n",
    "            dim=1,\n",
    "        )\n",
    "\n",
    "        joint_likelihood = (lp_choices + lp_rts).squeeze()\n",
    "\n",
    "        assert joint_likelihood.shape == torch.Size([self.x_o.shape[0], theta.shape[0]])\n",
    "        return joint_likelihood.sum(0)"
   ]
  },
  {
   "cell_type": "code",
   "execution_count": 3,
   "metadata": {},
   "outputs": [],
   "source": [
    "# Define independent prior.\n",
    "prior = MultipleIndependent(\n",
    "    [\n",
    "        Gamma(torch.tensor([1.0]), torch.tensor([0.5])),\n",
    "        Beta(torch.tensor([2.0]), torch.tensor([2.0])),\n",
    "    ],\n",
    "    validate_args=False,\n",
    ")"
   ]
  },
  {
   "cell_type": "markdown",
   "metadata": {},
   "source": [
    "### Obtain reference-posterior samples via analytical likelihood and MCMC"
   ]
  },
  {
   "cell_type": "code",
   "execution_count": 4,
   "metadata": {},
   "outputs": [],
   "source": [
    "torch.manual_seed(42)\n",
    "num_trials = 10\n",
    "num_samples = 1000\n",
    "theta_o = prior.sample((1,))\n",
    "x_o = mixed_simulator(theta_o.repeat(num_trials, 1))"
   ]
  },
  {
   "cell_type": "code",
   "execution_count": 5,
   "metadata": {},
   "outputs": [
    {
     "name": "stderr",
     "output_type": "stream",
     "text": [
      "/Users/janbolts/qode/sbi/sbi/utils/sbiutils.py:341: UserWarning: An x with a batch size of 10 was passed. It will be interpreted as a batch of independent and identically\n",
      "            distributed data X={x_1, ..., x_n}, i.e., data generated based on the\n",
      "            same underlying (unknown) parameter. The resulting posterior will be with\n",
      "            respect to entire batch, i.e,. p(theta | X).\n",
      "  warnings.warn(\n"
     ]
    },
    {
     "data": {
      "application/vnd.jupyter.widget-view+json": {
       "model_id": "f478ebdc01d94a5f8b105bd4bf410025",
       "version_major": 2,
       "version_minor": 0
      },
      "text/plain": [
       "Running vectorized MCMC with 20 chains:   0%|          | 0/20000 [00:00<?, ?it/s]"
      ]
     },
     "metadata": {},
     "output_type": "display_data"
    }
   ],
   "source": [
    "mcmc_kwargs = dict(\n",
    "        num_chains=20,\n",
    "        warmup_steps=50,\n",
    "        method=\"slice_np_vectorized\",\n",
    "        init_strategy=\"proposal\",\n",
    "    )\n",
    "\n",
    "true_posterior = MCMCPosterior(\n",
    "    potential_fn=PotentialFunctionProvider(prior, x_o),\n",
    "    proposal=prior,\n",
    "    theta_transform=mcmc_transform(prior, enable_transform=True),\n",
    "    **mcmc_kwargs,\n",
    ")\n",
    "true_samples = true_posterior.sample((num_samples,))"
   ]
  },
  {
   "cell_type": "markdown",
   "metadata": {},
   "source": [
    "### Train MNLE and generate samples via MCMC"
   ]
  },
  {
   "cell_type": "code",
   "execution_count": null,
   "metadata": {},
   "outputs": [
    {
     "name": "stderr",
     "output_type": "stream",
     "text": [
      "/Users/janbolts/qode/sbi/sbi/neural_nets/mnle.py:60: UserWarning: The mixed neural likelihood estimator assumes that x contains\n",
      "        continuous data in the first n-1 columns (e.g., reaction times) and\n",
      "        categorical data in the last column (e.g., corresponding choices). If\n",
      "        this is not the case for the passed `x` do not use this function.\n",
      "  warnings.warn(\n"
     ]
    },
    {
     "name": "stdout",
     "output_type": "stream",
     "text": [
      " Neural network successfully converged after 62 epochs."
     ]
    }
   ],
   "source": [
    "# Training data\n",
    "num_simulations = 5000\n",
    "# For training the MNLE emulator we need to define a proposal distribution, the prior is\n",
    "# a good choice.\n",
    "proposal = prior\n",
    "theta = proposal.sample((num_simulations,))\n",
    "x = mixed_simulator(theta)\n",
    "\n",
    "# Train MNLE and obtain MCMC-based posterior.\n",
    "trainer = MNLE()\n",
    "estimator = trainer.append_simulations(theta, x).train()"
   ]
  },
  {
   "cell_type": "code",
   "execution_count": null,
   "metadata": {},
   "outputs": [
    {
     "name": "stderr",
     "output_type": "stream",
     "text": [
      "/Users/janbolts/qode/sbi/sbi/utils/sbiutils.py:341: UserWarning: An x with a batch size of 10 was passed. It will be interpreted as a batch of independent and identically\n",
      "            distributed data X={x_1, ..., x_n}, i.e., data generated based on the\n",
      "            same underlying (unknown) parameter. The resulting posterior will be with\n",
      "            respect to entire batch, i.e,. p(theta | X).\n",
      "  warnings.warn(\n",
      "/Users/janbolts/qode/sbi/sbi/samplers/mcmc/slice_numpy.py:393: UserWarning: Parallelization of vectorized slice sampling not implement, running\n",
      "                serially.\n",
      "  warn(\n"
     ]
    },
    {
     "data": {
      "application/vnd.jupyter.widget-view+json": {
       "model_id": "cdd1e9257e1f4d22a9da5ebdf56319e8",
       "version_major": 2,
       "version_minor": 0
      },
      "text/plain": [
       "Running vectorized MCMC with 20 chains:   0%|          | 0/20000 [00:00<?, ?it/s]"
      ]
     },
     "metadata": {},
     "output_type": "display_data"
    }
   ],
   "source": [
    "# Build posterior from the trained estimator and prior.\n",
    "mnle_posterior = trainer.build_posterior(prior=prior)\n",
    "\n",
    "mnle_samples = mnle_posterior.sample((num_samples,), x=x_o, **mcmc_kwargs)"
   ]
  },
  {
   "cell_type": "markdown",
   "metadata": {},
   "source": [
    "### Compare MNLE and reference posterior"
   ]
  },
  {
   "cell_type": "code",
   "execution_count": null,
   "metadata": {},
   "outputs": [
    {
     "name": "stderr",
     "output_type": "stream",
     "text": [
      "/Users/janbolts/qode/sbi/sbi/analysis/plot.py:413: UserWarning: No contour levels were found within the data range.\n",
      "  plt.contour(\n"
     ]
    },
    {
     "data": {
      "image/png": "[encoded data removed]",
      "text/plain": [
       "<Figure size 720x720 with 4 Axes>"
      ]
     },
     "metadata": {
      "needs_background": "light"
     },
     "output_type": "display_data"
    }
   ],
   "source": [
    "# Plot them in one pairplot as contours (obtained via KDE on the samples).\n",
    "fig, ax = pairplot(\n",
    "    [\n",
    "        prior.sample((1000,)),\n",
    "        true_samples,\n",
    "        mnle_samples,\n",
    "    ],\n",
    "    points=theta_o,\n",
    "    diag=\"kde\",\n",
    "    upper=\"contour\",\n",
    "    kde_offdiag=dict(bins=50),\n",
    "    kde_diag=dict(bins=100),\n",
    "    contour_offdiag=dict(levels=[0.95]),\n",
    "    points_colors=[\"k\"],\n",
    "    points_offdiag=dict(marker=\"*\", markersize=10),\n",
    "    labels=[r\"$\\beta$\", r\"$\\rho$\"],\n",
    ")\n",
    "\n",
    "plt.sca(ax[1, 1])\n",
    "plt.legend(\n",
    "    [\"Prior\", \"Reference\", \"MNLE\", r\"$\\theta_o$\"],\n",
    "    frameon=False,\n",
    "    fontsize=12,\n",
    ");"
   ]
  },
  {
   "cell_type": "markdown",
   "metadata": {},
   "source": [
    "We see that the inferred `MNLE` posterior nicely matches the reference posterior, and how both inferred a posterior that is quite different from the prior.\n",
    "\n",
    "Because MNLE training is amortized we can obtain another posterior given a different observation with potentially a different number of trials, just by running MCMC again (without re-training `MNLE`):"
   ]
  },
  {
   "cell_type": "markdown",
   "metadata": {},
   "source": [
    "### Repeat inference with different `x_o` that has more trials"
   ]
  },
  {
   "cell_type": "code",
   "execution_count": 21,
   "metadata": {},
   "outputs": [
    {
     "name": "stderr",
     "output_type": "stream",
     "text": [
      "/Users/janbolts/qode/sbi/sbi/utils/sbiutils.py:341: UserWarning: An x with a batch size of 50 was passed. It will be interpreted as a batch of independent and identically\n",
      "            distributed data X={x_1, ..., x_n}, i.e., data generated based on the\n",
      "            same underlying (unknown) parameter. The resulting posterior will be with\n",
      "            respect to entire batch, i.e,. p(theta | X).\n",
      "  warnings.warn(\n",
      "/Users/janbolts/qode/sbi/sbi/samplers/mcmc/slice_numpy.py:393: UserWarning: Parallelization of vectorized slice sampling not implement, running\n",
      "                serially.\n",
      "  warn(\n"
     ]
    },
    {
     "data": {
      "application/vnd.jupyter.widget-view+json": {
       "model_id": "7784b0e544a5449cb5172cbeae23e381",
       "version_major": 2,
       "version_minor": 0
      },
      "text/plain": [
       "Running vectorized MCMC with 20 chains:   0%|          | 0/20000 [00:00<?, ?it/s]"
      ]
     },
     "metadata": {},
     "output_type": "display_data"
    },
    {
     "data": {
      "application/vnd.jupyter.widget-view+json": {
       "model_id": "01a6f84a87744193a7ee90eff2da2ebf",
       "version_major": 2,
       "version_minor": 0
      },
      "text/plain": [
       "Running vectorized MCMC with 20 chains:   0%|          | 0/20000 [00:00<?, ?it/s]"
      ]
     },
     "metadata": {},
     "output_type": "display_data"
    }
   ],
   "source": [
    "num_trials = 50\n",
    "x_o = mixed_simulator(theta_o.repeat(num_trials, 1))\n",
    "true_samples = true_posterior.sample((num_samples,), x=x_o)\n",
    "mnle_samples = mnle_posterior.sample((num_samples,), x=x_o, **mcmc_kwargs)"
   ]
  },
  {
   "cell_type": "code",
   "execution_count": null,
   "metadata": {},
   "outputs": [
    {
     "name": "stderr",
     "output_type": "stream",
     "text": [
      "/home/janfb/qode/sbi/sbi/analysis/plot.py:425: UserWarning: No contour levels were found within the data range.\n",
      "  levels=opts[\"contour_offdiag\"][\"levels\"],\n"
     ]
    },
    {
     "data": {
      "image/png": "[encoded data removed]",
      "text/plain": [
       "<Figure size 720x720 with 4 Axes>"
      ]
     },
     "metadata": {
      "needs_background": "light"
     },
     "output_type": "display_data"
    }
   ],
   "source": [
    "# Plot them in one pairplot as contours (obtained via KDE on the samples).\n",
    "fig, ax = pairplot(\n",
    "    [\n",
    "        prior.sample((1000,)),\n",
    "        true_samples,\n",
    "        mnle_samples,\n",
    "    ],\n",
    "    points=theta_o,\n",
    "    diag=\"kde\",\n",
    "    upper=\"contour\",\n",
    "    kde_offdiag=dict(bins=50),\n",
    "    kde_diag=dict(bins=100),\n",
    "    contour_offdiag=dict(levels=[0.95]),\n",
    "    points_colors=[\"k\"],\n",
    "    points_offdiag=dict(marker=\"*\", markersize=10),\n",
    "    labels=[r\"$\\beta$\", r\"$\\rho$\"],\n",
    ")\n",
    "\n",
    "plt.sca(ax[1, 1])\n",
    "plt.legend(\n",
    "    [\"Prior\", \"Reference\", \"MNLE\", r\"$\\theta_o$\"],\n",
    "    frameon=False,\n",
    "    fontsize=12,\n",
    ");"
   ]
  },
  {
   "cell_type": "markdown",
   "metadata": {},
   "source": [
    "Again we can see that the posteriors match nicely. In addition, we observe that the posterior variance reduces as we increase the number of trials, similar to the illustration with the Gaussian example at the beginning of the tutorial. \n",
    "\n",
    "A final note: `MNLE` is trained on single-trial data. Theoretically, density estimation is perfectly accurate only in the limit of infinite training data. Thus, training with a finite amount of training data naturally induces a small bias in the density estimator. As we observed above, this bias is so small that we don't really notice it, e.g., the `c2st` scores were close to 0.5. However, when we increase the number of trials in `x_o` dramatically (on the order of 1000s) the small bias can accumulate over the trials and inference with `MNLE` can become less accurate."
   ]
  },
  {
   "cell_type": "code",
   "execution_count": null,
   "metadata": {},
   "outputs": [],
   "source": []
  }
 ],
 "metadata": {
  "kernelspec": {
   "display_name": "Python 3.8.13 ('sbi')",
   "language": "python",
   "name": "python3"
  },
  "language_info": {
   "codemirror_mode": {
    "name": "ipython",
    "version": 3
   },
   "file_extension": ".py",
   "mimetype": "text/x-python",
   "name": "python",
   "nbconvert_exporter": "python",
   "pygments_lexer": "ipython3",
   "version": "3.8.13"
  },
  "vscode": {
   "interpreter": {
    "hash": "9ef9b53a5ce850816b9705a866e49207a37a04a71269aa157d9f9ab944ea42bf"
   }
  }
 },
 "nbformat": 4,
 "nbformat_minor": 4
}
